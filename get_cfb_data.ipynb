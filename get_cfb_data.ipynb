{
 "cells": [
  {
   "cell_type": "markdown",
   "metadata": {},
   "source": [
    "# Process\n",
    "\n",
    "## Step 1: Get Player Stats from cfbFastR"
   ]
  },
  {
   "cell_type": "code",
   "execution_count": null,
   "metadata": {
    "vscode": {
     "languageId": "r"
    }
   },
   "outputs": [],
   "source": [
    "# Libraries\n",
    "library(cfbfastR)\n",
    "library(dplyr)\n",
    "library(readr)\n",
    "library(dplyr)\n",
    "library(readr)\n",
    "library(stringr)\n",
    "\n",
    "# Set API key for cfbfastR\n",
    "Sys.setenv(CFBD_API_KEY = \"Scram! Get your own API Key\")"
   ]
  },
  {
   "cell_type": "code",
   "execution_count": null,
   "metadata": {
    "vscode": {
     "languageId": "r"
    }
   },
   "outputs": [
    {
     "name": "stdout",
     "output_type": "stream",
     "text": [
      "Processing data for year: 2009 \n"
     ]
    },
    {
     "name": "stderr",
     "output_type": "stream",
     "text": [
      "\u001b[1mRows: \u001b[22m\u001b[34m87068\u001b[39m \u001b[1mColumns: \u001b[22m\u001b[34m59\u001b[39m\n",
      "\u001b[36m--\u001b[39m \u001b[1mColumn specification\u001b[22m \u001b[36m--------------------------------------------------------\u001b[39m\n",
      "\u001b[1mDelimiter:\u001b[22m \",\"\n",
      "\u001b[31mchr\u001b[39m  (3): team, conference, player\n",
      "\u001b[32mdbl\u001b[39m (56): year, athlete_id, passing_completions, passing_att, passing_pct, p...\n",
      "\n",
      "\u001b[36mi\u001b[39m Use `spec()` to retrieve the full column specification for this data.\n",
      "\u001b[36mi\u001b[39m Specify the column types or set `show_col_types = FALSE` to quiet this message.\n"
     ]
    },
    {
     "name": "stdout",
     "output_type": "stream",
     "text": [
      "Data for year 2009 appended to filtered_player_stats_full.csv \n",
      "Processing data for year: 2008 \n"
     ]
    },
    {
     "name": "stderr",
     "output_type": "stream",
     "text": [
      "\u001b[1mRows: \u001b[22m\u001b[34m90735\u001b[39m \u001b[1mColumns: \u001b[22m\u001b[34m59\u001b[39m\n",
      "\u001b[36m--\u001b[39m \u001b[1mColumn specification\u001b[22m \u001b[36m--------------------------------------------------------\u001b[39m\n",
      "\u001b[1mDelimiter:\u001b[22m \",\"\n",
      "\u001b[31mchr\u001b[39m  (3): team, conference, player\n",
      "\u001b[32mdbl\u001b[39m (56): year, athlete_id, passing_completions, passing_att, passing_pct, p...\n",
      "\n",
      "\u001b[36mi\u001b[39m Use `spec()` to retrieve the full column specification for this data.\n",
      "\u001b[36mi\u001b[39m Specify the column types or set `show_col_types = FALSE` to quiet this message.\n"
     ]
    },
    {
     "name": "stdout",
     "output_type": "stream",
     "text": [
      "Data for year 2008 appended to filtered_player_stats_full.csv \n",
      "Batch processing complete. All player stats saved to filtered_player_stats_full.csv \n"
     ]
    }
   ],
   "source": [
    "# Specify the range of years for batch processing\n",
    "start_year <- 2024\n",
    "end_year <- 2024\n",
    "# I did it like this to preserve my computer's memory. \n",
    "# File to store combined player stats\n",
    "player_stats_file <- \"filtered_player_stats_full.csv\"\n",
    "\n",
    "# Loop through each year in the range\n",
    "for (year in start_year:end_year) {\n",
    "  cat(\"Processing data for year:\", year, \"\\n\")\n",
    "  \n",
    "  # Fetch the player stats for the current year (all columns)\n",
    "  player_stats <- cfbfastR::cfbd_stats_season_player(year = year) %>%\n",
    "    filter(!is.na(player), player != \"Team\") %>%  # Skip invalid rows\n",
    "    mutate(year = as.character(year)) %>%  # Add the year column\n",
    "    distinct()  # Ensure no duplicate rows\n",
    "  \n",
    "  # If the file already exists, append data\n",
    "  if (file.exists(player_stats_file)) {\n",
    "    # Load existing data\n",
    "    existing_data <- read_csv(player_stats_file)\n",
    "    \n",
    "    # Ensure consistent column types\n",
    "    existing_data <- existing_data %>%\n",
    "      mutate(across(everything(), as.character))  # Convert all to character for consistency\n",
    "    player_stats <- player_stats %>%\n",
    "      mutate(across(everything(), as.character))  # Convert all to character for consistency\n",
    "    \n",
    "    # Append new data\n",
    "    combined_data <- bind_rows(existing_data, player_stats) %>%\n",
    "      distinct()  # Remove duplicates, if any\n",
    "  } else {\n",
    "    # If the file doesn't exist, create a new one\n",
    "    combined_data <- player_stats\n",
    "  }\n",
    "  \n",
    "  # Save the updated data to the CSV file\n",
    "  write_csv(combined_data, player_stats_file)\n",
    "  cat(\"Data for year\", year, \"appended to\", player_stats_file, \"\\n\")\n",
    "}\n",
    "\n",
    "cat(\"Batch processing complete. All player stats saved to\", player_stats_file, \"\\n\")"
   ]
  },
  {
   "cell_type": "markdown",
   "metadata": {},
   "source": [
    "# Step 2: Bring in Combine Data and add athlete_id to it"
   ]
  },
  {
   "cell_type": "code",
   "execution_count": null,
   "metadata": {
    "vscode": {
     "languageId": "r"
    }
   },
   "outputs": [
    {
     "name": "stderr",
     "output_type": "stream",
     "text": [
      "\u001b[1mRows: \u001b[22m\u001b[34m7434\u001b[39m \u001b[1mColumns: \u001b[22m\u001b[34m17\u001b[39m\n",
      "\u001b[36m--\u001b[39m \u001b[1mColumn specification\u001b[22m \u001b[36m--------------------------------------------------------\u001b[39m\n",
      "\u001b[1mDelimiter:\u001b[22m \",\"\n",
      "\u001b[31mchr\u001b[39m  (3): Name, College, POS\n",
      "\u001b[32mdbl\u001b[39m (12): Year, Height (in), Weight (lbs), Hand Size (in), Arm Length (in), ...\n",
      "\u001b[33mlgl\u001b[39m  (2): Id, 60Yd Shuttle\n",
      "\n",
      "\u001b[36mi\u001b[39m Use `spec()` to retrieve the full column specification for this data.\n",
      "\u001b[36mi\u001b[39m Specify the column types or set `show_col_types = FALSE` to quiet this message.\n",
      "\u001b[1mRows: \u001b[22m\u001b[34m94252\u001b[39m \u001b[1mColumns: \u001b[22m\u001b[34m59\u001b[39m\n",
      "\u001b[36m--\u001b[39m \u001b[1mColumn specification\u001b[22m \u001b[36m--------------------------------------------------------\u001b[39m\n",
      "\u001b[1mDelimiter:\u001b[22m \",\"\n",
      "\u001b[31mchr\u001b[39m  (3): team, conference, player\n",
      "\u001b[32mdbl\u001b[39m (56): year, athlete_id, passing_completions, passing_att, passing_pct, p...\n",
      "\n",
      "\u001b[36mi\u001b[39m Use `spec()` to retrieve the full column specification for this data.\n",
      "\u001b[36mi\u001b[39m Specify the column types or set `show_col_types = FALSE` to quiet this message.\n",
      "Warning message in left_join(., filtered_player_stats %>% select(player, athlete_id), :\n",
      "\"\u001b[1m\u001b[22mDetected an unexpected many-to-many relationship between `x` and `y`.\n",
      "\u001b[36mi\u001b[39m Row 1 of `x` matches multiple rows in `y`.\n",
      "\u001b[36mi\u001b[39m Row 23860 of `y` matches multiple rows in `x`.\n",
      "\u001b[36mi\u001b[39m If a many-to-many relationship is expected, set `relationship =\n",
      "  \"many-to-many\"` to silence this warning.\"\n"
     ]
    },
    {
     "name": "stdout",
     "output_type": "stream",
     "text": [
      "Unresolved rows saved to unresolved_combine_data.csv for manual review.\n",
      "Updated combine data saved to combine_data_with_athlete_id_step1.csv\n"
     ]
    }
   ],
   "source": [
    "combine_data <- read_csv(\"combine_data.csv\")\n",
    "player_stats <- read_csv(\"filtered_player_stats_full.csv\")\n",
    "\n",
    "# Step 1: Strip dots (.) from names in both datasets\n",
    "combine_data <- combine_data %>%\n",
    "  mutate(Name = str_replace_all(Name, \"\\\\.\", \"\"))  # Remove periods from Name\n",
    "\n",
    "player_stats <- player_stats %>%\n",
    "  mutate(player = str_replace_all(player, \"\\\\.\", \"\"))  # Remove periods from player\n",
    "\n",
    "# Step 2: Flag potential duplicate names in player_stats\n",
    "duplicate_names <- player_stats %>%\n",
    "  group_by(player) %>%\n",
    "  filter(n_distinct(athlete_id) > 1) %>%  # Identify names with multiple athlete_ids (ex AJ Green)\n",
    "  pull(player) %>% \n",
    "  unique()\n",
    "\n",
    "# Step 3: Filter out duplicate names from player_stats to prevent incorrect joins\n",
    "filtered_player_stats <- player_stats %>%\n",
    "  filter(!player %in% duplicate_names)\n",
    "\n",
    "# Step 4: Join to map `athlete_id` to `combine_data` based on Name\n",
    "updated_combine_data <- combine_data %>%\n",
    "  left_join(\n",
    "    filtered_player_stats %>% select(player, athlete_id), \n",
    "    by = c(\"Name\" = \"player\")                              # Match on Name\n",
    "  ) %>%\n",
    "  mutate(\n",
    "    athlete_id = coalesce(athlete_id, Id)       \n",
    "  select(-Id)                                  \n",
    "\n",
    "# Step 5: Save rows with unresolved athlete_id for manual review\n",
    "unresolved_rows <- updated_combine_data %>%\n",
    "  filter(is.na(athlete_id))\n",
    "\n",
    "write_csv(unresolved_rows, \"unresolved_combine_data.csv\")\n",
    "cat(\"Unresolved rows saved to unresolved_combine_data.csv for manual review.\\n\")\n",
    "\n",
    "# Step 6: Save the updated combine data to a new CSV\n",
    "write_csv(updated_combine_data, \"combine_data_with_athlete_id_step1.csv\")\n",
    "cat(\"Updated combine data saved to combine_data_with_athlete_id_step1.csv\\n\")"
   ]
  },
  {
   "cell_type": "code",
   "execution_count": 180,
   "metadata": {
    "vscode": {
     "languageId": "r"
    }
   },
   "outputs": [
    {
     "name": "stderr",
     "output_type": "stream",
     "text": [
      "\u001b[1mRows: \u001b[22m\u001b[34m15894\u001b[39m \u001b[1mColumns: \u001b[22m\u001b[34m17\u001b[39m\n",
      "\u001b[36m--\u001b[39m \u001b[1mColumn specification\u001b[22m \u001b[36m--------------------------------------------------------\u001b[39m\n",
      "\u001b[1mDelimiter:\u001b[22m \",\"\n",
      "\u001b[31mchr\u001b[39m  (3): Name, College, POS\n",
      "\u001b[32mdbl\u001b[39m (13): Year, Height (in), Weight (lbs), Hand Size (in), Arm Length (in), ...\n",
      "\u001b[33mlgl\u001b[39m  (1): 60Yd Shuttle\n",
      "\n",
      "\u001b[36mi\u001b[39m Use `spec()` to retrieve the full column specification for this data.\n",
      "\u001b[36mi\u001b[39m Specify the column types or set `show_col_types = FALSE` to quiet this message.\n"
     ]
    },
    {
     "name": "stdout",
     "output_type": "stream",
     "text": [
      "Filtered combine data saved to combine_data_unique_athlete_id_step2.csv\n"
     ]
    }
   ],
   "source": [
    "# Load the Step 1 CSV\n",
    "combine_data_step1 <- read_csv(\"combine_data_with_athlete_id_step1.csv\")\n",
    "\n",
    "# Filter the data to one row per athlete_id, except where athlete_id is NA\n",
    "filtered_combine_data <- combine_data_step1 %>%\n",
    "  group_by(athlete_id) %>%\n",
    "  filter(is.na(athlete_id) | row_number() == 1) %>%  # Keep all NA rows; otherwise, keep the first row per athlete_id\n",
    "  ungroup()\n",
    "\n",
    "# Save the filtered data to a new CSV\n",
    "write_csv(filtered_combine_data, \"combine_data_unique_athlete_id_step2.csv\")\n",
    "cat(\"Filtered combine data saved to combine_data_unique_athlete_id_step2.csv\\n\")"
   ]
  },
  {
   "cell_type": "code",
   "execution_count": 189,
   "metadata": {
    "vscode": {
     "languageId": "r"
    }
   },
   "outputs": [
    {
     "name": "stderr",
     "output_type": "stream",
     "text": [
      "\u001b[1mRows: \u001b[22m\u001b[34m7407\u001b[39m \u001b[1mColumns: \u001b[22m\u001b[34m17\u001b[39m\n",
      "\u001b[36m--\u001b[39m \u001b[1mColumn specification\u001b[22m \u001b[36m--------------------------------------------------------\u001b[39m\n",
      "\u001b[1mDelimiter:\u001b[22m \",\"\n",
      "\u001b[31mchr\u001b[39m  (3): Name, College, POS\n",
      "\u001b[32mdbl\u001b[39m (13): Year, Height (in), Weight (lbs), Hand Size (in), Arm Length (in), ...\n",
      "\u001b[33mlgl\u001b[39m  (1): 60Yd Shuttle\n",
      "\n",
      "\u001b[36mi\u001b[39m Use `spec()` to retrieve the full column specification for this data.\n",
      "\u001b[36mi\u001b[39m Specify the column types or set `show_col_types = FALSE` to quiet this message.\n",
      "\u001b[1mRows: \u001b[22m\u001b[34m94252\u001b[39m \u001b[1mColumns: \u001b[22m\u001b[34m59\u001b[39m\n",
      "\u001b[36m--\u001b[39m \u001b[1mColumn specification\u001b[22m \u001b[36m--------------------------------------------------------\u001b[39m\n",
      "\u001b[1mDelimiter:\u001b[22m \",\"\n",
      "\u001b[31mchr\u001b[39m  (3): team, conference, player\n",
      "\u001b[32mdbl\u001b[39m (56): year, athlete_id, passing_completions, passing_att, passing_pct, p...\n",
      "\n",
      "\u001b[36mi\u001b[39m Use `spec()` to retrieve the full column specification for this data.\n",
      "\u001b[36mi\u001b[39m Specify the column types or set `show_col_types = FALSE` to quiet this message.\n",
      "Warning message in left_join(., player_stats %>% select(player, team, athlete_id), :\n",
      "\"\u001b[1m\u001b[22mDetected an unexpected many-to-many relationship between `x` and `y`.\n",
      "\u001b[36mi\u001b[39m Row 1 of `x` matches multiple rows in `y`.\n",
      "\u001b[36mi\u001b[39m Row 22988 of `y` matches multiple rows in `x`.\n",
      "\u001b[36mi\u001b[39m If a many-to-many relationship is expected, set `relationship =\n",
      "  \"many-to-many\"` to silence this warning.\"\n"
     ]
    },
    {
     "name": "stdout",
     "output_type": "stream",
     "text": [
      "Structure of updated_combine_data after join and coalesce:\n",
      "tibble [14,275 x 17] (S3: tbl_df/tbl/data.frame)\n",
      " $ Year           : num [1:14275] 2024 2024 2024 2024 2024 ...\n",
      " $ Name           : chr [1:14275] \"Kris Abrams-Draine\" \"Kris Abrams-Draine\" \"Kris Abrams-Draine\" \"Kris Abrams-Draine\" ...\n",
      " $ College        : chr [1:14275] \"missouri\" \"missouri\" \"missouri\" \"missouri\" ...\n",
      " $ POS            : chr [1:14275] \"CB\" \"CB\" \"CB\" \"CB\" ...\n",
      " $ Height (in)    : num [1:14275] 71.4 71.4 71.4 71.4 76.2 ...\n",
      " $ Weight (lbs)   : num [1:14275] 179 179 179 179 315 206 252 235 235 235 ...\n",
      " $ Hand Size (in) : num [1:14275] 8.63 8.63 8.63 8.63 9 ...\n",
      " $ Arm Length (in): num [1:14275] 31 31 31 31 33.9 ...\n",
      " $ Wonderlic      : num [1:14275] NA NA NA NA NA NA NA NA NA NA ...\n",
      " $ 40 Yard        : num [1:14275] 4.44 4.44 4.44 4.44 5.22 NA NA NA NA NA ...\n",
      " $ Bench Press    : num [1:14275] NA NA NA NA 22 NA NA 26 26 26 ...\n",
      " $ Vert Leap (in) : num [1:14275] 33.5 33.5 33.5 33.5 24.5 NA NA 32 32 32 ...\n",
      " $ Broad Jump (in): num [1:14275] 115 115 115 115 102 NA NA 117 117 117 ...\n",
      " $ Shuttle        : num [1:14275] 4.41 4.41 4.41 4.41 4.73 NA NA NA NA NA ...\n",
      " $ 3Cone          : num [1:14275] 7.15 7.15 7.15 7.15 7.77 NA NA NA NA NA ...\n",
      " $ 60Yd Shuttle   : logi [1:14275] NA NA NA NA NA NA ...\n",
      " $ athlete_id     : num [1:14275] 4429193 4429193 4429193 4429193 NA ...\n",
      "Number of rows with unresolved athlete_id: 2465 \n",
      "Unresolved rows saved to unresolved_name_and_school.csv for manual review.\n",
      "Updated data saved to name_and_school_check_step3.csv\n"
     ]
    }
   ],
   "source": [
    "# Load the datasets\n",
    "combine_data <- read_csv(\"combine_data_unique_athlete_id_step2.csv\")\n",
    "player_stats <- read_csv(\"filtered_player_stats_full.csv\")\n",
    "\n",
    "# Step 1: Standardize and clean the names\n",
    "combine_data <- combine_data %>%\n",
    "  mutate(\n",
    "    Name = str_replace_all(Name, \"\\\\.\", \"\"),  # Remove periods again from Name\n",
    "    College = tolower(College)               # Standardize case for College\n",
    "  )\n",
    "\n",
    "player_stats <- player_stats %>%\n",
    "  mutate(\n",
    "    player = str_replace_all(player, \"\\\\.\", \"\"),  # Remove dots from player\n",
    "    team = tolower(team)                         # Standardize case for team\n",
    "  )\n",
    "\n",
    "# Step 2: Perform the join and coalesce athlete_id\n",
    "updated_combine_data <- combine_data %>%\n",
    "  left_join(\n",
    "    player_stats %>% select(player, team, athlete_id),  # Select relevant columns for matching\n",
    "    by = c(\"Name\" = \"player\", \"College\" = \"team\")       # Match on Name and College\n",
    "  ) %>%\n",
    "  mutate(\n",
    "    athlete_id = coalesce(athlete_id.x, athlete_id.y),  # Resolve athlete_id.x and athlete_id.y\n",
    "    athlete_id.x = NULL,                               # Drop unnecessary columns\n",
    "    athlete_id.y = NULL\n",
    "  )\n",
    "\n",
    "# Debugging: Check the structure and content of the join result\n",
    "cat(\"Structure of updated_combine_data after join and coalesce:\\n\")\n",
    "str(updated_combine_data)\n",
    "\n",
    "# Debugging: Count unresolved athlete_ids\n",
    "unresolved_count <- updated_combine_data %>%\n",
    "  filter(is.na(athlete_id)) %>%\n",
    "  nrow()\n",
    "\n",
    "cat(\"Number of rows with unresolved athlete_id:\", unresolved_count, \"\\n\")\n",
    "\n",
    "# Step 3: Save rows with unresolved athlete_id for manual review\n",
    "unresolved_rows <- updated_combine_data %>%\n",
    "  filter(is.na(athlete_id))\n",
    "\n",
    "write_csv(unresolved_rows, \"unresolved_name_and_school.csv\")\n",
    "cat(\"Unresolved rows saved to unresolved_name_and_school.csv for manual review.\\n\")\n",
    "\n",
    "# Step 4: Save the updated dataset\n",
    "write_csv(updated_combine_data, \"name_and_school_check_step3.csv\")\n",
    "cat(\"Updated data saved to name_and_school_check_step3.csv\\n\")\n"
   ]
  },
  {
   "cell_type": "code",
   "execution_count": 190,
   "metadata": {
    "vscode": {
     "languageId": "r"
    }
   },
   "outputs": [
    {
     "name": "stderr",
     "output_type": "stream",
     "text": [
      "\u001b[1mRows: \u001b[22m\u001b[34m14275\u001b[39m \u001b[1mColumns: \u001b[22m\u001b[34m17\u001b[39m\n",
      "\u001b[36m--\u001b[39m \u001b[1mColumn specification\u001b[22m \u001b[36m--------------------------------------------------------\u001b[39m\n",
      "\u001b[1mDelimiter:\u001b[22m \",\"\n",
      "\u001b[31mchr\u001b[39m  (3): Name, College, POS\n",
      "\u001b[32mdbl\u001b[39m (13): Year, Height (in), Weight (lbs), Hand Size (in), Arm Length (in), ...\n",
      "\u001b[33mlgl\u001b[39m  (1): 60Yd Shuttle\n",
      "\n",
      "\u001b[36mi\u001b[39m Use `spec()` to retrieve the full column specification for this data.\n",
      "\u001b[36mi\u001b[39m Specify the column types or set `show_col_types = FALSE` to quiet this message.\n"
     ]
    },
    {
     "name": "stdout",
     "output_type": "stream",
     "text": [
      "Rows before filtering duplicates: 14275 \n",
      "Rows after filtering duplicates: 7430 \n",
      "Updated dataset saved to combine_data_unique_athlete_id_step4.csv\n"
     ]
    }
   ],
   "source": [
    "combine_data <- read_csv(\"name_and_school_check_step3.csv\")\n",
    "\n",
    "# Remove duplicates based on `athlete_id`, keeping all `NA` rows\n",
    "unique_combine_data <- combine_data %>%\n",
    "  filter(is.na(athlete_id) | !duplicated(athlete_id))  # Keep all NA and first occurrence of non-NA athlete_id\n",
    "\n",
    "# Debugging: Count the rows before and after filtering\n",
    "cat(\"Rows before filtering duplicates:\", nrow(combine_data), \"\\n\")\n",
    "cat(\"Rows after filtering duplicates:\", nrow(unique_combine_data), \"\\n\")\n",
    "\n",
    "# Save the updated dataset\n",
    "write_csv(unique_combine_data, \"combine_data_unique_athlete_id_step4.csv\")\n",
    "cat(\"Updated dataset saved to combine_data_unique_athlete_id_step4.csv\\n\")"
   ]
  },
  {
   "cell_type": "code",
   "execution_count": 191,
   "metadata": {
    "vscode": {
     "languageId": "r"
    }
   },
   "outputs": [
    {
     "name": "stderr",
     "output_type": "stream",
     "text": [
      "\u001b[1mRows: \u001b[22m\u001b[34m7430\u001b[39m \u001b[1mColumns: \u001b[22m\u001b[34m17\u001b[39m\n",
      "\u001b[36m--\u001b[39m \u001b[1mColumn specification\u001b[22m \u001b[36m--------------------------------------------------------\u001b[39m\n",
      "\u001b[1mDelimiter:\u001b[22m \",\"\n",
      "\u001b[31mchr\u001b[39m  (3): Name, College, POS\n",
      "\u001b[32mdbl\u001b[39m (13): Year, Height (in), Weight (lbs), Hand Size (in), Arm Length (in), ...\n",
      "\u001b[33mlgl\u001b[39m  (1): 60Yd Shuttle\n",
      "\n",
      "\u001b[36mi\u001b[39m Use `spec()` to retrieve the full column specification for this data.\n",
      "\u001b[36mi\u001b[39m Specify the column types or set `show_col_types = FALSE` to quiet this message.\n"
     ]
    },
    {
     "name": "stdout",
     "output_type": "stream",
     "text": [
      "Number of rows with NA athlete_id: 2465 \n",
      "Rows with NA athlete_id saved to na_athlete_ids_inspection.csv\n",
      "\u001b[90m# A tibble: 6 x 17\u001b[39m\n",
      "   Year Name         College POS   `Height (in)` `Weight (lbs)` `Hand Size (in)`\n",
      "  \u001b[3m\u001b[90m<dbl>\u001b[39m\u001b[23m \u001b[3m\u001b[90m<chr>\u001b[39m\u001b[23m        \u001b[3m\u001b[90m<chr>\u001b[39m\u001b[23m   \u001b[3m\u001b[90m<chr>\u001b[39m\u001b[23m         \u001b[3m\u001b[90m<dbl>\u001b[39m\u001b[23m          \u001b[3m\u001b[90m<dbl>\u001b[39m\u001b[23m            \u001b[3m\u001b[90m<dbl>\u001b[39m\u001b[23m\n",
      "\u001b[90m1\u001b[39m  \u001b[4m2\u001b[24m024 Isaiah Adams illino~ OG             76.2            315             9   \n",
      "\u001b[90m2\u001b[39m  \u001b[4m2\u001b[24m024 Kiran Amega~ yale    OT             77.4            323             9.63\n",
      "\u001b[90m3\u001b[39m  \u001b[4m2\u001b[24m024 Gottlieb Ay~ maryla~ OG             76.1            308             9.88\n",
      "\u001b[90m4\u001b[39m  \u001b[4m2\u001b[24m024 Karsen Barn~ michig~ OG             76.5            306             9.88\n",
      "\u001b[90m5\u001b[39m  \u001b[4m2\u001b[24m024 Tanor Borto~ wiscon~ C              76.2            303            10   \n",
      "\u001b[90m6\u001b[39m  \u001b[4m2\u001b[24m024 Millard Bra~ texas ~ FS             70.5            191             9   \n",
      "\u001b[90m# i 10 more variables: `Arm Length (in)` <dbl>, Wonderlic <dbl>,\u001b[39m\n",
      "\u001b[90m#   `40 Yard` <dbl>, `Bench Press` <dbl>, `Vert Leap (in)` <dbl>,\u001b[39m\n",
      "\u001b[90m#   `Broad Jump (in)` <dbl>, Shuttle <dbl>, `3Cone` <dbl>,\u001b[39m\n",
      "\u001b[90m#   `60Yd Shuttle` <lgl>, athlete_id <dbl>\u001b[39m\n"
     ]
    }
   ],
   "source": [
    "combine_data <- read_csv(\"combine_data_unique_athlete_id_step4.csv\")\n",
    "\n",
    "# Filter rows where athlete_id is NA\n",
    "na_athlete_ids <- combine_data %>%\n",
    "  filter(is.na(athlete_id))\n",
    "\n",
    "# Debugging: Display the number of rows with NA athlete_id\n",
    "cat(\"Number of rows with NA athlete_id:\", nrow(na_athlete_ids), \"\\n\")\n",
    "\n",
    "# Save the rows with NA athlete_id to a separate CSV for review\n",
    "write_csv(na_athlete_ids, \"na_athlete_ids_inspection.csv\")\n",
    "cat(\"Rows with NA athlete_id saved to na_athlete_ids_inspection.csv\\n\")\n",
    "\n",
    "# Print the first few rows to the console for quick review\n",
    "print(head(na_athlete_ids))"
   ]
  },
  {
   "cell_type": "markdown",
   "metadata": {},
   "source": [
    "### Manually Update a Few (Bucky Irving, Frank Gore Jr, etc.)"
   ]
  },
  {
   "cell_type": "code",
   "execution_count": null,
   "metadata": {
    "vscode": {
     "languageId": "r"
    }
   },
   "outputs": [],
   "source": []
  },
  {
   "cell_type": "code",
   "execution_count": null,
   "metadata": {
    "vscode": {
     "languageId": "r"
    }
   },
   "outputs": [],
   "source": []
  },
  {
   "cell_type": "code",
   "execution_count": null,
   "metadata": {
    "vscode": {
     "languageId": "r"
    }
   },
   "outputs": [],
   "source": []
  }
 ],
 "metadata": {
  "kernelspec": {
   "display_name": "R",
   "language": "R",
   "name": "ir"
  },
  "language_info": {
   "codemirror_mode": "r",
   "file_extension": ".r",
   "mimetype": "text/x-r-source",
   "name": "R",
   "pygments_lexer": "r",
   "version": "4.1.3"
  }
 },
 "nbformat": 4,
 "nbformat_minor": 2
}
